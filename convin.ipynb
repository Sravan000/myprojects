{
  "nbformat": 4,
  "nbformat_minor": 0,
  "metadata": {
    "colab": {
      "name": "convin.ipynb",
      "provenance": [],
      "authorship_tag": "ABX9TyPaHd5OydlpY9rJdLvoJL4v",
      "include_colab_link": true
    },
    "kernelspec": {
      "name": "python3",
      "display_name": "Python 3"
    },
    "language_info": {
      "name": "python"
    }
  },
  "cells": [
    {
      "cell_type": "markdown",
      "metadata": {
        "id": "view-in-github",
        "colab_type": "text"
      },
      "source": [
        "<a href=\"https://colab.research.google.com/github/Sravan000/myprojects/blob/main/convin.ipynb\" target=\"_parent\"><img src=\"https://colab.research.google.com/assets/colab-badge.svg\" alt=\"Open In Colab\"/></a>"
      ]
    },
    {
      "cell_type": "code",
      "metadata": {
        "id": "uQ5IvOaFN4aI"
      },
      "source": [
        "class questionTagger():\n",
        "  def __init__(self,path):\n",
        "    # Reading file from the specified path\n",
        "    self.file = open(path).read()\n",
        "    # Making file as in the form of senetnces.\n",
        "    self.file_sentences = file.split(\"\\n\")\n",
        "    # Phrases that are marked as questions\n",
        "    self.START_WORDS = ['are','who', 'what', 'when', 'where', 'why', 'how', 'is', 'can', 'does', 'do']\n",
        "    self.output_file = open('output.txt','w')\n",
        "  # function to find weather a sentence is question or not.\n",
        "  def isQuestion(self,sentence):\n",
        "    # splitting sentence into words.\n",
        "    words = sentence.split(' ')\n",
        "    if words[0] in START_WORDS or words[-1] == \"?\":\n",
        "      self.output_file.write(sentence+\" Yes\\n\")\n",
        "    else:\n",
        "      self.output_file.write(sentence+\" No\\n\")\n",
        "  def run(self):\n",
        "    for sentence in self.file_sentences:\n",
        "      self.isQuestion(sentence)\n",
        "    # Closing files\n",
        "    self.output_file.close()\n",
        "    \n",
        "\n",
        "# Driver Code\n",
        "if __name__ == \"__main__\": \n",
        "  # File location\n",
        "  path = \"/content/data.txt\"\n",
        "  questionTagger(path).run()"
      ],
      "execution_count": 36,
      "outputs": []
    },
    {
      "cell_type": "code",
      "metadata": {
        "id": "7Nh41v_MPzLS"
      },
      "source": [
        ""
      ],
      "execution_count": 33,
      "outputs": []
    },
    {
      "cell_type": "code",
      "metadata": {
        "id": "ovzaJ-tQQBce"
      },
      "source": [
        ""
      ],
      "execution_count": null,
      "outputs": []
    }
  ]
}